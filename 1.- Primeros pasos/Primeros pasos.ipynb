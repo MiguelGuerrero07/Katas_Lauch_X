{
 "cells": [
  {
   "cell_type": "markdown",
   "metadata": {},
   "source": [
    "<h1>Mensajes en consola</h1>\n",
    "\n",
    "Para imprimir mensajes utilizamos la función print()"
   ]
  },
  {
   "cell_type": "code",
   "execution_count": 166,
   "metadata": {},
   "outputs": [
    {
     "name": "stdout",
     "output_type": "stream",
     "text": [
      "Hola Mundo ,desde de la consola\n"
     ]
    }
   ],
   "source": [
    "print(\"Hola Mundo ,desde de la consola\");"
   ]
  },
  {
   "cell_type": "markdown",
   "metadata": {},
   "source": [
    "<h1>Variables.</h1>\n",
    " <p>Las variables son un espacio en memoria.\n",
    " En el cual debemos comprender para saber que estámos manejando datos. \n",
    " Ejemplo</p>"
   ]
  },
  {
   "cell_type": "code",
   "execution_count": 167,
   "metadata": {},
   "outputs": [
    {
     "name": "stdout",
     "output_type": "stream",
     "text": [
      "6\n"
     ]
    }
   ],
   "source": [
    "sum = 1 + 2 ;#3\n",
    "resultado= sum * 2;\n",
    "print(resultado);\n",
    "#En nuestra primera linea nuestra variable se llama suma\n",
    "#En la cual va a tener 2 datos de tipo entrero y realizar una suma\n",
    "#En nuestra segunda liena de codigo nuestra variable se llama resultado\n",
    "#la cual va multiplicar la varible sum , osea el resultado y lo multiplizara por x2\n",
    "\n"
   ]
  },
  {
   "cell_type": "markdown",
   "metadata": {},
   "source": [
    "<h1>Tipos de datos</h1>\n",
    "Los tipos de datos,nos ayudan para asumir variables.\n",
    "\n",
    "Tipo de datos.                                          \n",
    "\n",
    "Númericos(Int,Float,Complex)\n",
    "Texto(String)\n",
    "Booleano(True o False)\n",
    "\n",
    "Ejemplo\n"
   ]
  },
  {
   "cell_type": "code",
   "execution_count": 168,
   "metadata": {},
   "outputs": [],
   "source": [
    "planetas_en_el_sistema_solar =8  #Tipo int8 antes eran 9 pero pluton es un pequeño planeta\n",
    "distancia_a_alfa_centuari = 4.367 #Float\n",
    "puede_despegar = True # VERDADERO\n",
    "transbordador_que_aterrizo_en_la_luna =\"Apolo 11\" #Tipo String ya que es un texto\n"
   ]
  },
  {
   "cell_type": "code",
   "execution_count": 169,
   "metadata": {},
   "outputs": [
    {
     "name": "stdout",
     "output_type": "stream",
     "text": [
      "Imprimos su valor y su tipo de dato\n"
     ]
    }
   ],
   "source": [
    "#Usaremos otra una nueva forma de usar una función type\n",
    "\n",
    "#Declaramos nuestra variable\n",
    "\n",
    "distancia_a_alfa_centuari= 4.367;\n",
    "\n",
    "#Ahora la veremos que tipo de dato asigna el type\n",
    "\n",
    "type(distancia_a_alfa_centuari);\n",
    "\n",
    "print(\"Imprimos su valor y su tipo de dato\" )"
   ]
  },
  {
   "cell_type": "markdown",
   "metadata": {},
   "source": [
    "<h1>Operadores</h1>"
   ]
  },
  {
   "cell_type": "markdown",
   "metadata": {},
   "source": [
    "Nos ayudan a relizar operaciones entre las variables y valores\n",
    "Ejemplo"
   ]
  },
  {
   "cell_type": "code",
   "execution_count": 170,
   "metadata": {},
   "outputs": [
    {
     "data": {
      "text/plain": [
       "2.0"
      ]
     },
     "execution_count": 170,
     "metadata": {},
     "output_type": "execute_result"
    }
   ],
   "source": [
    "left_side = 10 #INT\n",
    "right_side = 5 #INT\n",
    "left_side / right_side #DIVISION ENTRE VARIABLES"
   ]
  },
  {
   "cell_type": "markdown",
   "metadata": {},
   "source": [
    "Tipos de operadores y ejemplos.\n",
    "\n",
    "SUMA    = +\n",
    "\n",
    "RESTA   = -\n",
    "\n",
    "DIVISON = /\n",
    "\n",
    "Multiplicación = *"
   ]
  },
  {
   "cell_type": "code",
   "execution_count": 171,
   "metadata": {},
   "outputs": [
    {
     "data": {
      "text/plain": [
       "2"
      ]
     },
     "execution_count": 171,
     "metadata": {},
     "output_type": "execute_result"
    }
   ],
   "source": [
    "#Ejemplo de suma\n",
    "1+1  \n"
   ]
  },
  {
   "cell_type": "code",
   "execution_count": 172,
   "metadata": {},
   "outputs": [
    {
     "data": {
      "text/plain": [
       "1"
      ]
     },
     "execution_count": 172,
     "metadata": {},
     "output_type": "execute_result"
    }
   ],
   "source": [
    "#Ejemplo de resta\n",
    "2-1"
   ]
  },
  {
   "cell_type": "code",
   "execution_count": 173,
   "metadata": {},
   "outputs": [
    {
     "data": {
      "text/plain": [
       "9.0"
      ]
     },
     "execution_count": 173,
     "metadata": {},
     "output_type": "execute_result"
    }
   ],
   "source": [
    "#Ejemplo de division\n",
    "27 /3"
   ]
  },
  {
   "cell_type": "code",
   "execution_count": 174,
   "metadata": {},
   "outputs": [
    {
     "data": {
      "text/plain": [
       "100"
      ]
     },
     "execution_count": 174,
     "metadata": {},
     "output_type": "execute_result"
    }
   ],
   "source": [
    "#Ejemplo de multiplicacion\n",
    "10*10"
   ]
  },
  {
   "cell_type": "markdown",
   "metadata": {},
   "source": [
    "<h1>Operadores de asignación</h1>"
   ]
  },
  {
   "cell_type": "code",
   "execution_count": 175,
   "metadata": {},
   "outputs": [
    {
     "name": "stdout",
     "output_type": "stream",
     "text": [
      "2\n"
     ]
    }
   ],
   "source": [
    "x = 2\n",
    "print(x)"
   ]
  },
  {
   "cell_type": "code",
   "execution_count": 176,
   "metadata": {},
   "outputs": [
    {
     "name": "stdout",
     "output_type": "stream",
     "text": [
      "4\n"
     ]
    }
   ],
   "source": [
    "x +=2\n",
    "print(x) #x incrementado en 2. Si antes contenía 2, ahora tiene un valor de 4."
   ]
  },
  {
   "cell_type": "code",
   "execution_count": 177,
   "metadata": {},
   "outputs": [
    {
     "name": "stdout",
     "output_type": "stream",
     "text": [
      "2\n"
     ]
    }
   ],
   "source": [
    "x -= 2\n",
    "print(x) #x decrementado por 2. Si antes contenía 2, ahora tiene un valor de 0."
   ]
  },
  {
   "cell_type": "code",
   "execution_count": 178,
   "metadata": {},
   "outputs": [
    {
     "name": "stdout",
     "output_type": "stream",
     "text": [
      "1.0\n"
     ]
    }
   ],
   "source": [
    "x /=2\n",
    "print(x) #dividido por 2. Si antes contenía 2, ahora tiene un valor de 1."
   ]
  },
  {
   "cell_type": "code",
   "execution_count": 179,
   "metadata": {},
   "outputs": [
    {
     "name": "stdout",
     "output_type": "stream",
     "text": [
      "2.0\n"
     ]
    }
   ],
   "source": [
    "x *=2\n",
    "print(x) #multiplicado por 2. Si antes contenía 2, ahora tiene un valor de 4."
   ]
  },
  {
   "cell_type": "markdown",
   "metadata": {},
   "source": [
    "<h1>Fechas</h1>"
   ]
  },
  {
   "cell_type": "markdown",
   "metadata": {},
   "source": [
    "Las fechas son muy importantes para saber, que día y hora se modiico algo de nuestro codigo para ello se debe imortar la libreria \"Date\" Y \"Datetime\"\n",
    "\n",
    "Archivo de copia de seguridad. Usar una fecha como parte del nombre de un archivo de copia de seguridad es una buena manera de indicar cuándo se realizó una copia de seguridad y cuándo debe realizarse nuevamente.\n",
    "\n",
    "Condición. Es posible que desee llevar una lógica específica cuando hay una fecha determinada.\n",
    "\n",
    "Métrica. Las fechas se utilizan para comprobar el rendimiento del código para, por ejemplo, medir el tiempo que se tarda en ejecutar una función.\n"
   ]
  },
  {
   "cell_type": "markdown",
   "metadata": {},
   "source": [
    "Ejemplo"
   ]
  },
  {
   "cell_type": "code",
   "execution_count": 180,
   "metadata": {},
   "outputs": [
    {
     "name": "stdout",
     "output_type": "stream",
     "text": [
      "El día de hoy es: 2022-02-05\n"
     ]
    }
   ],
   "source": [
    "from datetime import date #IMPORTAMOS NUESTRA LIBRERIA\n",
    "\n",
    "date.day\n",
    "\n",
    "\n",
    "print(\"El día de hoy es: \" + str(date.today()))\n"
   ]
  },
  {
   "cell_type": "markdown",
   "metadata": {},
   "source": [
    "<h1>Metodos de entrada</h1>"
   ]
  },
  {
   "cell_type": "markdown",
   "metadata": {},
   "source": [
    "Los metodos de entrada, nos ayudan a guardar nuestros tipos de datos.\n",
    "y tambien a mostrarlos a nuestro usuarios\n",
    "\n",
    "Ejemplo\n"
   ]
  },
  {
   "cell_type": "code",
   "execution_count": 181,
   "metadata": {},
   "outputs": [
    {
     "name": "stdout",
     "output_type": "stream",
     "text": [
      "Bienvenido a nuestro primer programa\n",
      "Saludos mustras gracias : Miguel\n"
     ]
    }
   ],
   "source": [
    "print(\"Bienvenido a nuestro primer programa\") #Mostramos un mensaje en pantalla\n",
    "name = input(\"Ingrese su nombre\") # Asignamos nuestra variable de tipo String en el cual esta imprime un mensaje y su vez guarda lo que nuestro usuario ingrese\n",
    "print(\"Saludos mustras gracias : \" + name) #Imprimimos mensaje y lo concatenamos con nuestra variable\n"
   ]
  },
  {
   "cell_type": "markdown",
   "metadata": {},
   "source": [
    "Ejemplo con números"
   ]
  },
  {
   "cell_type": "code",
   "execution_count": 182,
   "metadata": {},
   "outputs": [
    {
     "name": "stdout",
     "output_type": "stream",
     "text": [
      "Nuestra primera calculadora\n",
      "10\n"
     ]
    }
   ],
   "source": [
    "#Calculadora\n",
    "\n",
    "print(\"Nuestra primera calculadora\"); #Imprimiemos mensajes\n",
    "Primer_numero=input(\"Ingrese el primer nuemero\"); #Variable más mensaje\n",
    "Segundo_numero=input(\"Ingrese el segundo numero\");#Variable más mensaje\n",
    "print(int(Primer_numero) + int(Segundo_numero))\n"
   ]
  }
 ],
 "metadata": {
  "interpreter": {
   "hash": "c2162bde8eeb14dfd9c7742f3596c73464ca0724786709d14167b87db50c8fed"
  },
  "kernelspec": {
   "display_name": "Python 3.10.2 64-bit",
   "language": "python",
   "name": "python3"
  },
  "language_info": {
   "codemirror_mode": {
    "name": "ipython",
    "version": 3
   },
   "file_extension": ".py",
   "mimetype": "text/x-python",
   "name": "python",
   "nbconvert_exporter": "python",
   "pygments_lexer": "ipython3",
   "version": "3.10.2"
  },
  "orig_nbformat": 4
 },
 "nbformat": 4,
 "nbformat_minor": 2
}
