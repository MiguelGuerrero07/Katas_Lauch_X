{
 "cells": [
  {
   "cell_type": "markdown",
   "metadata": {},
   "source": [
    "Ejercicio 1: Creación de diccionarios de Python"
   ]
  },
  {
   "cell_type": "code",
   "execution_count": 8,
   "metadata": {},
   "outputs": [
    {
     "name": "stdout",
     "output_type": "stream",
     "text": [
      "Marte tiene 2 luna\n"
     ]
    },
    {
     "ename": "KeyError",
     "evalue": "'circumference (km)'",
     "output_type": "error",
     "traceback": [
      "\u001b[1;31m---------------------------------------------------------------------------\u001b[0m",
      "\u001b[1;31mKeyError\u001b[0m                                  Traceback (most recent call last)",
      "\u001b[1;32md:\\Katas_Lauch_X\\8.- Administrar datos con diccionarios\\Modulo8Katas.ipynb Cell 2'\u001b[0m in \u001b[0;36m<module>\u001b[1;34m\u001b[0m\n\u001b[0;32m      <a href='vscode-notebook-cell:/d%3A/Katas_Lauch_X/8.-%20Administrar%20datos%20con%20diccionarios/Modulo8Katas.ipynb#ch0000002?line=5'>6</a>\u001b[0m \u001b[39mprint\u001b[39m(\u001b[39mf\u001b[39m\u001b[39m'\u001b[39m\u001b[39m{\u001b[39;00mPlanetas[\u001b[39m\"\u001b[39m\u001b[39mnombre\u001b[39m\u001b[39m\"\u001b[39m]\u001b[39m}\u001b[39;00m\u001b[39m tiene \u001b[39m\u001b[39m{\u001b[39;00mPlanetas[\u001b[39m\"\u001b[39m\u001b[39mluna\u001b[39m\u001b[39m\"\u001b[39m]\u001b[39m}\u001b[39;00m\u001b[39m luna\u001b[39m\u001b[39m'\u001b[39m)\n\u001b[0;32m      <a href='vscode-notebook-cell:/d%3A/Katas_Lauch_X/8.-%20Administrar%20datos%20con%20diccionarios/Modulo8Katas.ipynb#ch0000002?line=8'>9</a>\u001b[0m Planetas[\u001b[39m'\u001b[39m\u001b[39mcircunferencia (km)\u001b[39m\u001b[39m'\u001b[39m] \u001b[39m=\u001b[39m {\n\u001b[0;32m     <a href='vscode-notebook-cell:/d%3A/Katas_Lauch_X/8.-%20Administrar%20datos%20con%20diccionarios/Modulo8Katas.ipynb#ch0000002?line=9'>10</a>\u001b[0m     \u001b[39m'\u001b[39m\u001b[39mpolar\u001b[39m\u001b[39m'\u001b[39m: \u001b[39m6752\u001b[39m,\n\u001b[0;32m     <a href='vscode-notebook-cell:/d%3A/Katas_Lauch_X/8.-%20Administrar%20datos%20con%20diccionarios/Modulo8Katas.ipynb#ch0000002?line=10'>11</a>\u001b[0m     \u001b[39m'\u001b[39m\u001b[39mequatorial\u001b[39m\u001b[39m'\u001b[39m: \u001b[39m6792\u001b[39m\n\u001b[0;32m     <a href='vscode-notebook-cell:/d%3A/Katas_Lauch_X/8.-%20Administrar%20datos%20con%20diccionarios/Modulo8Katas.ipynb#ch0000002?line=11'>12</a>\u001b[0m }\n\u001b[1;32m---> <a href='vscode-notebook-cell:/d%3A/Katas_Lauch_X/8.-%20Administrar%20datos%20con%20diccionarios/Modulo8Katas.ipynb#ch0000002?line=13'>14</a>\u001b[0m \u001b[39mprint\u001b[39m(\u001b[39mf\u001b[39m\u001b[39m'\u001b[39m\u001b[39m{\u001b[39;00mPlanetas[\u001b[39m\"\u001b[39m\u001b[39mnombre\u001b[39m\u001b[39m\"\u001b[39m]\u001b[39m}\u001b[39;00m\u001b[39m has a polar circumference of \u001b[39m\u001b[39m{\u001b[39;00mPlanetas[\u001b[39m\"\u001b[39m\u001b[39mcircumference (km)\u001b[39m\u001b[39m\"\u001b[39m][\u001b[39m\"\u001b[39m\u001b[39mpolar\u001b[39m\u001b[39m\"\u001b[39m]\u001b[39m}\u001b[39;00m\u001b[39m'\u001b[39m)\n",
      "\u001b[1;31mKeyError\u001b[0m: 'circumference (km)'"
     ]
    }
   ],
   "source": [
    "Planetas ={\n",
    "    'nombre': 'Marte',\n",
    "    'luna': 2\n",
    "}\n",
    "\n",
    "print(f'{Planetas[\"nombre\"]} tiene {Planetas[\"luna\"]} luna')\n",
    "\n",
    "\n",
    "Planetas['circunferencia (km)'] = {\n",
    "    'polar': 6752,\n",
    "    'equatorial': 6792\n",
    "}\n",
    "\n",
    "print(f'{Planetas[\"nombre\"]} has a polar circumference of {Planetas[\"circumference (km)\"][\"polar\"]}')\n"
   ]
  },
  {
   "cell_type": "markdown",
   "metadata": {},
   "source": [
    "Original"
   ]
  },
  {
   "cell_type": "code",
   "execution_count": 9,
   "metadata": {},
   "outputs": [
    {
     "name": "stdout",
     "output_type": "stream",
     "text": [
      "Mars has 2 moons\n",
      "Mars has a polar circumference of 6752\n"
     ]
    }
   ],
   "source": [
    "\n",
    "planet = {\n",
    "    'name': 'Mars',\n",
    "    'moons': 2\n",
    "}\n",
    "print(f'{planet[\"name\"]} has {planet[\"moons\"]} moons')\n",
    "planet['circumference (km)'] = {\n",
    "    'polar': 6752,\n",
    "    'equatorial': 6792\n",
    "}\n",
    "\n",
    "print(f'{planet[\"name\"]} has a polar circumference of {planet[\"circumference (km)\"][\"polar\"]}')"
   ]
  },
  {
   "cell_type": "markdown",
   "metadata": {},
   "source": [
    "Ejercicio 2: Programación dinámica con diccionarios"
   ]
  },
  {
   "cell_type": "code",
   "execution_count": 11,
   "metadata": {},
   "outputs": [
    {
     "name": "stdout",
     "output_type": "stream",
     "text": [
      "23.333333333333332\n"
     ]
    }
   ],
   "source": [
    "Universo = {\n",
    "    'Mercurio': 0,\n",
    "    'Venus': 0,\n",
    "    'Tierra': 1,\n",
    "    'Marte': 2,\n",
    "    'Jupiter': 79,\n",
    "    'Saturno': 82,\n",
    "    'Urano': 27,\n",
    "    'Neptuno': 14,\n",
    "    'Pluton': 5,\n",
    "}\n",
    "\n",
    "\n",
    "# Añade el código para determinar el número de lunas.\n",
    "\n",
    "# Obtenemos  lunas\n",
    "# Almacenamos en una variable \n",
    "lunas = Universo.values()\n",
    "\n",
    "# Obtenemos el total de planetas\n",
    "# Almacenamos los resultados en una variable llamada years\n",
    "Universo = len(Universo.keys())\n",
    "\n",
    "\n",
    "total_lunas = 0\n",
    "for lunas in lunas:\n",
    "    total_lunas = total_lunas + lunas\n",
    "\n",
    "# Calcula el promedio dividiendo el total_moons por el número de planetas\n",
    "average = total_lunas/ Universo\n",
    "\n",
    "# Muestra el promedio\n",
    "print(average)"
   ]
  }
 ],
 "metadata": {
  "interpreter": {
   "hash": "c2162bde8eeb14dfd9c7742f3596c73464ca0724786709d14167b87db50c8fed"
  },
  "kernelspec": {
   "display_name": "Python 3.10.2 64-bit",
   "language": "python",
   "name": "python3"
  },
  "language_info": {
   "codemirror_mode": {
    "name": "ipython",
    "version": 3
   },
   "file_extension": ".py",
   "mimetype": "text/x-python",
   "name": "python",
   "nbconvert_exporter": "python",
   "pygments_lexer": "ipython3",
   "version": "3.10.2"
  },
  "orig_nbformat": 4
 },
 "nbformat": 4,
 "nbformat_minor": 2
}
