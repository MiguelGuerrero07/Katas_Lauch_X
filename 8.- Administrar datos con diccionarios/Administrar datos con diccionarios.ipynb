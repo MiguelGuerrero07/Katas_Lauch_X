{
 "cells": [
  {
   "cell_type": "markdown",
   "metadata": {},
   "source": [
    "Crear diccionarios.\n"
   ]
  },
  {
   "cell_type": "code",
   "execution_count": null,
   "metadata": {},
   "outputs": [],
   "source": [
    "planet = {\n",
    "    'name': 'Earth',\n",
    "    'moons': 1\n",
    "}"
   ]
  },
  {
   "cell_type": "markdown",
   "metadata": {},
   "source": [
    "Los nombres de clave no necesitan seguir las reglas de nomenclatura estándar "
   ]
  },
  {
   "cell_type": "code",
   "execution_count": 1,
   "metadata": {},
   "outputs": [
    {
     "ename": "NameError",
     "evalue": "name 'planet' is not defined",
     "output_type": "error",
     "traceback": [
      "\u001b[1;31m---------------------------------------------------------------------------\u001b[0m",
      "\u001b[1;31mNameError\u001b[0m                                 Traceback (most recent call last)",
      "\u001b[1;32md:\\Katas_Lauch_X\\8.- Administrar datos con diccionarios\\Administrar datos con diccionarios.ipynb Cell 4'\u001b[0m in \u001b[0;36m<module>\u001b[1;34m\u001b[0m\n\u001b[1;32m----> <a href='vscode-notebook-cell:/d%3A/Katas_Lauch_X/8.-%20Administrar%20datos%20con%20diccionarios/Administrar%20datos%20con%20diccionarios.ipynb#ch0000005?line=0'>1</a>\u001b[0m \u001b[39mprint\u001b[39m(planet\u001b[39m.\u001b[39mget(\u001b[39m'\u001b[39m\u001b[39mname\u001b[39m\u001b[39m'\u001b[39m))\n",
      "\u001b[1;31mNameError\u001b[0m: name 'planet' is not defined"
     ]
    }
   ],
   "source": [
    "print(planet.get('name'))\n",
    "\n",
    "# Muestra Earth"
   ]
  },
  {
   "cell_type": "code",
   "execution_count": 3,
   "metadata": {},
   "outputs": [
    {
     "ename": "NameError",
     "evalue": "name 'planet' is not defined",
     "output_type": "error",
     "traceback": [
      "\u001b[1;31m---------------------------------------------------------------------------\u001b[0m",
      "\u001b[1;31mNameError\u001b[0m                                 Traceback (most recent call last)",
      "\u001b[1;32md:\\Katas_Lauch_X\\8.- Administrar datos con diccionarios\\Administrar datos con diccionarios.ipynb Cell 5'\u001b[0m in \u001b[0;36m<module>\u001b[1;34m\u001b[0m\n\u001b[0;32m      <a href='vscode-notebook-cell:/d%3A/Katas_Lauch_X/8.-%20Administrar%20datos%20con%20diccionarios/Administrar%20datos%20con%20diccionarios.ipynb#ch0000006?line=0'>1</a>\u001b[0m \u001b[39m# planet['name'] es idéntico a usar planet.get('name')\u001b[39;00m\n\u001b[1;32m----> <a href='vscode-notebook-cell:/d%3A/Katas_Lauch_X/8.-%20Administrar%20datos%20con%20diccionarios/Administrar%20datos%20con%20diccionarios.ipynb#ch0000006?line=1'>2</a>\u001b[0m \u001b[39mprint\u001b[39m(planet[\u001b[39m'\u001b[39m\u001b[39mname\u001b[39m\u001b[39m'\u001b[39m])\n",
      "\u001b[1;31mNameError\u001b[0m: name 'planet' is not defined"
     ]
    }
   ],
   "source": [
    "# planet['name'] es idéntico a usar planet.get('name')\n",
    "print(planet['name'])\n",
    "\n",
    "# Muestra Earth"
   ]
  },
  {
   "cell_type": "code",
   "execution_count": 4,
   "metadata": {},
   "outputs": [
    {
     "ename": "NameError",
     "evalue": "name 'planet' is not defined",
     "output_type": "error",
     "traceback": [
      "\u001b[1;31m---------------------------------------------------------------------------\u001b[0m",
      "\u001b[1;31mNameError\u001b[0m                                 Traceback (most recent call last)",
      "\u001b[1;32md:\\Katas_Lauch_X\\8.- Administrar datos con diccionarios\\Administrar datos con diccionarios.ipynb Cell 6'\u001b[0m in \u001b[0;36m<module>\u001b[1;34m\u001b[0m\n\u001b[1;32m----> <a href='vscode-notebook-cell:/d%3A/Katas_Lauch_X/8.-%20Administrar%20datos%20con%20diccionarios/Administrar%20datos%20con%20diccionarios.ipynb#ch0000007?line=0'>1</a>\u001b[0m wibble \u001b[39m=\u001b[39m planet\u001b[39m.\u001b[39mget(\u001b[39m'\u001b[39m\u001b[39mwibble\u001b[39m\u001b[39m'\u001b[39m) \u001b[39m# Regresa None\u001b[39;00m\n\u001b[0;32m      <a href='vscode-notebook-cell:/d%3A/Katas_Lauch_X/8.-%20Administrar%20datos%20con%20diccionarios/Administrar%20datos%20con%20diccionarios.ipynb#ch0000007?line=1'>2</a>\u001b[0m wibble \u001b[39m=\u001b[39m planet[\u001b[39m'\u001b[39m\u001b[39mwibble\u001b[39m\u001b[39m'\u001b[39m]\n",
      "\u001b[1;31mNameError\u001b[0m: name 'planet' is not defined"
     ]
    }
   ],
   "source": [
    "wibble = planet.get('wibble') # Regresa None\n",
    "wibble = planet['wibble'] # Arroja un KeyError"
   ]
  }
 ],
 "metadata": {
  "interpreter": {
   "hash": "c2162bde8eeb14dfd9c7742f3596c73464ca0724786709d14167b87db50c8fed"
  },
  "kernelspec": {
   "display_name": "Python 3.10.2 64-bit",
   "language": "python",
   "name": "python3"
  },
  "language_info": {
   "codemirror_mode": {
    "name": "ipython",
    "version": 3
   },
   "file_extension": ".py",
   "mimetype": "text/x-python",
   "name": "python",
   "nbconvert_exporter": "python",
   "pygments_lexer": "ipython3",
   "version": "3.10.2"
  },
  "orig_nbformat": 4
 },
 "nbformat": 4,
 "nbformat_minor": 2
}
