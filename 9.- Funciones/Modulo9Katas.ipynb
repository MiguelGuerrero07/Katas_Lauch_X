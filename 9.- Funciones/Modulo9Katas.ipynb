{
 "cells": [
  {
   "cell_type": "markdown",
   "metadata": {},
   "source": [
    "Ejercicio 1: Trabajar con argumentos en funciones"
   ]
  },
  {
   "cell_type": "code",
   "execution_count": 7,
   "metadata": {},
   "outputs": [
    {
     "name": "stdout",
     "output_type": "stream",
     "text": [
      "Reporte Final:\n",
      "    Total Reporte75.33333333333333%\n",
      "    Tanque1: 60%\n",
      "    Tanque2: 77%\n",
      "    Tanque3: 89%\n",
      "    \n",
      " Reporte Final:\n",
      "    total reporte:85.33333333333333%\n",
      "    Tanque1 :88%\n",
      "    Tanque2 :90%\n",
      "    Tanque3 :78%\n",
      "    \n",
      "\n"
     ]
    }
   ],
   "source": [
    "# Función para leer 3 tanques de combustible y muestre el promedio\n",
    "\n",
    "def reporte(tanque1,tanque2,tanque3):\n",
    "    total_reporte=(tanque1+tanque2+tanque3)/3\n",
    "    return f\"\"\"Reporte Final:\n",
    "    Total Reporte{total_reporte}%\n",
    "    Tanque1: {tanque1}%\n",
    "    Tanque2: {tanque2}%\n",
    "    Tanque3: {tanque3}%\n",
    "    \"\"\"\n",
    "# Llamamos a la función que genera el reporte print(funcion(tanque1, tanque2, tanque3))\n",
    "print(reporte(60, 77, 89))\n",
    "\n",
    "# Función promedio\n",
    "def promedio(values):\n",
    "    total = sum(values)\n",
    "    numeros=len(values)\n",
    "    return total/numeros\n",
    "\n",
    "promedio((90,88,79))\n",
    "\n",
    "\n",
    "# Actualiza la función\n",
    "def total_reporte(tanque1,tanque2,tanque3):\n",
    "    return f\"\"\" Reporte Final:\n",
    "    total reporte:{promedio([tanque1,tanque2,tanque3])}%\n",
    "    Tanque1 :{tanque1}%\n",
    "    Tanque2 :{tanque2}%\n",
    "    Tanque3 :{tanque3}%\n",
    "    \n",
    "\"\"\"\n",
    "print(total_reporte(88,90,78))"
   ]
  },
  {
   "cell_type": "markdown",
   "metadata": {},
   "source": [
    "Ejercicio 2: Trabajo con argumentos de palabra clave\n"
   ]
  },
  {
   "cell_type": "code",
   "execution_count": 13,
   "metadata": {},
   "outputs": [],
   "source": [
    "# Función con un informe preciso de la misión. Considera hora de prelanzamiento, tiempo de vuelo, destino, tanque externo y tanque interno\n",
    "\n",
    "def misiones(lanzamineto, vuelo, destino, tanqueexterno, tanqueprincipal):\n",
    "    return f\"\"\"\n",
    "    Mision a{destino}\n",
    "    Tiempo total de viaje: {lanzamineto + vuelo} minutos\n",
    "    Total fuel left: {tanqueexterno + tanqueprincipal} galones\n",
    "    \"\"\"\n",
    "    \n",
    "\n",
    "\n"
   ]
  },
  {
   "cell_type": "code",
   "execution_count": 14,
   "metadata": {},
   "outputs": [
    {
     "name": "stdout",
     "output_type": "stream",
     "text": [
      "\n",
      "    Mission to Moon\n",
      "    Total travel time: 76 minutos\n",
      "    Total fuel left: 500000\n",
      "    \n"
     ]
    }
   ],
   "source": [
    "# Escribe tu nueva función de reporte considerando lo anterior\n",
    "def misiones(destino, *minutos, **depósitos_de_combustible):\n",
    "    return f\"\"\"\n",
    "    Mission to {destino}\n",
    "    Total travel time: {sum(minutos)} minutos\n",
    "    Total fuel left: {sum(depósitos_de_combustible.values())}\n",
    "    \"\"\"\n",
    "\n",
    "print(misiones(\"Moon\", 10, 15, 51, main=300000, external=200000))"
   ]
  },
  {
   "cell_type": "code",
   "execution_count": 16,
   "metadata": {},
   "outputs": [
    {
     "name": "stdout",
     "output_type": "stream",
     "text": [
      "\n",
      "    Mission to Moon\n",
      "    Total travel time: 74 minutes\n",
      "    Total fuel left: 500000\n",
      "    main tank --> 300000 gallons left\n",
      "external tank --> 200000 gallons left\n",
      "\n"
     ]
    }
   ],
   "source": [
    "#Escribe tu nueva función\n",
    "\n",
    "def mission_report(destination, *minutes, **fuel_reservoirs):\n",
    "    main_report = f\"\"\"\n",
    "    Mission to {destination}\n",
    "    Total travel time: {sum(minutes)} minutes\n",
    "    Total fuel left: {sum(fuel_reservoirs.values())}\n",
    "    \"\"\"\n",
    "    for tank_name, gallons in fuel_reservoirs.items():\n",
    "        main_report += f\"{tank_name} tank --> {gallons} gallons left\\n\"\n",
    "    return main_report\n",
    "\n",
    "print(mission_report(\"Moon\", 8, 11, 55, main=300000, external=200000))"
   ]
  }
 ],
 "metadata": {
  "interpreter": {
   "hash": "c2162bde8eeb14dfd9c7742f3596c73464ca0724786709d14167b87db50c8fed"
  },
  "kernelspec": {
   "display_name": "Python 3.10.2 64-bit",
   "language": "python",
   "name": "python3"
  },
  "language_info": {
   "codemirror_mode": {
    "name": "ipython",
    "version": 3
   },
   "file_extension": ".py",
   "mimetype": "text/x-python",
   "name": "python",
   "nbconvert_exporter": "python",
   "pygments_lexer": "ipython3",
   "version": "3.10.2"
  },
  "orig_nbformat": 4
 },
 "nbformat": 4,
 "nbformat_minor": 2
}
