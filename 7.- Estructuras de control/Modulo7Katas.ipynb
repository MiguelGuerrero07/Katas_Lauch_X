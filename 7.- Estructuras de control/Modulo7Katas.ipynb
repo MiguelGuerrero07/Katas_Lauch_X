{
 "cells": [
  {
   "cell_type": "markdown",
   "metadata": {},
   "source": [
    "Ejercicio 1: Creación de un bucle \"while\""
   ]
  },
  {
   "cell_type": "code",
   "execution_count": 2,
   "metadata": {},
   "outputs": [
    {
     "ename": "KeyboardInterrupt",
     "evalue": "",
     "output_type": "error",
     "traceback": [
      "\u001b[1;31m---------------------------------------------------------------------------\u001b[0m",
      "\u001b[1;31mKeyboardInterrupt\u001b[0m                         Traceback (most recent call last)",
      "\u001b[1;32md:\\Katas_Lauch_X\\7.- Estructuras de control\\Modulo7Katas.ipynb Cell 2'\u001b[0m in \u001b[0;36m<module>\u001b[1;34m\u001b[0m\n\u001b[0;32m      <a href='vscode-notebook-cell:/d%3A/Katas_Lauch_X/7.-%20Estructuras%20de%20control/Modulo7Katas.ipynb#ch0000003?line=0'>1</a>\u001b[0m Nuevos_planetas \u001b[39m=\u001b[39m \u001b[39m'\u001b[39m\u001b[39m'\u001b[39m\n\u001b[0;32m      <a href='vscode-notebook-cell:/d%3A/Katas_Lauch_X/7.-%20Estructuras%20de%20control/Modulo7Katas.ipynb#ch0000003?line=1'>2</a>\u001b[0m Planetas \u001b[39m=\u001b[39m []\n\u001b[1;32m----> <a href='vscode-notebook-cell:/d%3A/Katas_Lauch_X/7.-%20Estructuras%20de%20control/Modulo7Katas.ipynb#ch0000003?line=3'>4</a>\u001b[0m \u001b[39mwhile\u001b[39;00m Nuevos_planetas\u001b[39m.\u001b[39;49mlower() \u001b[39m!=\u001b[39m\u001b[39m'\u001b[39m\u001b[39mdone\u001b[39m\u001b[39m'\u001b[39m:\n\u001b[0;32m      <a href='vscode-notebook-cell:/d%3A/Katas_Lauch_X/7.-%20Estructuras%20de%20control/Modulo7Katas.ipynb#ch0000003?line=4'>5</a>\u001b[0m     \u001b[39mif\u001b[39;00m Nuevos_planetas:\n\u001b[0;32m      <a href='vscode-notebook-cell:/d%3A/Katas_Lauch_X/7.-%20Estructuras%20de%20control/Modulo7Katas.ipynb#ch0000003?line=5'>6</a>\u001b[0m         Planetas\u001b[39m.\u001b[39mappend(Nuevos_planetas)\n",
      "\u001b[1;31mKeyboardInterrupt\u001b[0m: "
     ]
    }
   ],
   "source": [
    "Nuevos_planetas = ''\n",
    "Planetas = []\n",
    "\n",
    "while Nuevos_planetas.lower() !='done':\n",
    "    if Nuevos_planetas:\n",
    "        Planetas.append(Nuevos_planetas)\n",
    "        Nuevos_planetas = input('Estos son tus nuevos planetas')"
   ]
  },
  {
   "cell_type": "markdown",
   "metadata": {},
   "source": [
    "Ejercicio 2\n"
   ]
  },
  {
   "cell_type": "code",
   "execution_count": null,
   "metadata": {},
   "outputs": [],
   "source": [
    "#Escribe tu ciclo for para iterar en una lista de planetas\n",
    "\n",
    "for Planetas in Planetas:\n",
    "    print(Planetas)"
   ]
  }
 ],
 "metadata": {
  "interpreter": {
   "hash": "c2162bde8eeb14dfd9c7742f3596c73464ca0724786709d14167b87db50c8fed"
  },
  "kernelspec": {
   "display_name": "Python 3.10.2 64-bit",
   "language": "python",
   "name": "python3"
  },
  "language_info": {
   "codemirror_mode": {
    "name": "ipython",
    "version": 3
   },
   "file_extension": ".py",
   "mimetype": "text/x-python",
   "name": "python",
   "nbconvert_exporter": "python",
   "pygments_lexer": "ipython3",
   "version": "3.10.2"
  },
  "orig_nbformat": 4
 },
 "nbformat": 4,
 "nbformat_minor": 2
}
